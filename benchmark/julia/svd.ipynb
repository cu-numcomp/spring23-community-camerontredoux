{
 "cells": [
  {
   "cell_type": "code",
   "execution_count": 1,
   "metadata": {},
   "outputs": [],
   "source": [
    "using BenchmarkTools;\n",
    "using LinearAlgebra, JSON;"
   ]
  },
  {
   "cell_type": "code",
   "execution_count": 2,
   "metadata": {},
   "outputs": [
    {
     "data": {
      "text/plain": [
       "test (generic function with 1 method)"
      ]
     },
     "execution_count": 2,
     "metadata": {},
     "output_type": "execute_result"
    }
   ],
   "source": [
    "function test(n::Int64)\n",
    "    A = rand(n,n)\n",
    "    svd(A)\n",
    "end"
   ]
  },
  {
   "cell_type": "code",
   "execution_count": 3,
   "metadata": {},
   "outputs": [
    {
     "data": {
      "text/plain": [
       "12-element BenchmarkTools.BenchmarkGroup:\n",
       "  tags: []\n",
       "  5 => Trial(4.466 μs)\n",
       "  12 => Trial(18.940 μs)\n",
       "  8 => Trial(9.090 μs)\n",
       "  1 => Trial(952.760 ns)\n",
       "  6 => Trial(5.902 μs)\n",
       "  11 => Trial(16.460 μs)\n",
       "  9 => Trial(11.350 μs)\n",
       "  3 => Trial(2.168 μs)\n",
       "  7 => Trial(7.530 μs)\n",
       "  4 => Trial(3.254 μs)\n",
       "  ⋮"
      ]
     },
     "execution_count": 3,
     "metadata": {},
     "output_type": "execute_result"
    }
   ],
   "source": [
    "suite = BenchmarkGroup()\n",
    "suite[1] = @benchmarkable test(1)\n",
    "suite[2] = @benchmarkable test(2)\n",
    "suite[3] = @benchmarkable test(3)\n",
    "suite[4] = @benchmarkable test(4)\n",
    "suite[5] = @benchmarkable test(5)\n",
    "suite[6] = @benchmarkable test(6)\n",
    "suite[7] = @benchmarkable test(7)\n",
    "suite[8] = @benchmarkable test(8)\n",
    "suite[9] = @benchmarkable test(9)\n",
    "suite[10] = @benchmarkable test(10)\n",
    "suite[11] = @benchmarkable test(11)\n",
    "suite[12] = @benchmarkable test(12)\n",
    "\n",
    "tune!(suite)\n",
    "results = run(suite, verbose=false)"
   ]
  },
  {
   "cell_type": "code",
   "execution_count": 4,
   "metadata": {},
   "outputs": [
    {
     "name": "stdout",
     "output_type": "stream",
     "text": [
      "n = 5: 5001.428571428572\n",
      "n = 12: 22329.5\n",
      "n = 8: 11050.0\n",
      "n = 1: 1001.16\n",
      "n = 6: 6670.0\n",
      "n = 11: 19140.0\n",
      "n = 9: 13439.0\n",
      "n = 3: 2370.0\n",
      "n = 7: 8873.333333333334\n",
      "n = 4: 3577.5\n",
      "n = 2: 1377.0\n",
      "n = 10: 16489.0\n"
     ]
    }
   ],
   "source": [
    "# BenchmarkTools.save(\"output.json\", median(results))\n",
    "for (i, result) in enumerate(results)\n",
    "    println(\"n = $(result.first): \", median(result.second).time)\n",
    "end"
   ]
  }
 ],
 "metadata": {
  "kernelspec": {
   "display_name": "Julia 1.8.5",
   "language": "julia",
   "name": "julia-1.8"
  },
  "language_info": {
   "file_extension": ".jl",
   "mimetype": "application/julia",
   "name": "julia",
   "version": "1.8.5"
  },
  "orig_nbformat": 4
 },
 "nbformat": 4,
 "nbformat_minor": 2
}
