{
 "cells": [
  {
   "attachments": {},
   "cell_type": "markdown",
   "id": "e1688f55-a799-4a5c-bdb0-3926032bd4fa",
   "metadata": {},
   "source": [
    "# Julia Benchmark (Matrix Multiplication)\n",
    "\n",
    "Methods compared:\n",
    "- Matrix multiplication\n",
    "- Triangular solve\n",
    "- LU decomposition w/ partial pivoting\n",
    "- QR decomposition w/ no pivoting\n"
   ]
  },
  {
   "cell_type": "code",
   "execution_count": 1,
   "id": "c49f2822-94ec-47e0-bb6f-9ead535e37c7",
   "metadata": {},
   "outputs": [],
   "source": [
    "using BenchmarkTools;\n",
    "using LinearAlgebra, JSON;"
   ]
  },
  {
   "cell_type": "markdown",
   "id": "cc62419c-a27c-43b9-b973-397d0a1c8b65",
   "metadata": {},
   "source": [
    "### Matrix Multiplication"
   ]
  },
  {
   "cell_type": "code",
   "execution_count": 3,
   "id": "44e0eea9-4ff7-4964-a97c-d5e782a93b93",
   "metadata": {},
   "outputs": [
    {
     "data": {
      "text/plain": [
       "test (generic function with 1 method)"
      ]
     },
     "execution_count": 3,
     "metadata": {},
     "output_type": "execute_result"
    }
   ],
   "source": [
    "# make function that multiplies two nxn matrices\n",
    "function test(n::Int64)\n",
    "    A = rand(n, n)\n",
    "    # @show A\n",
    "    B = rand(n, n)\n",
    "    # @show B\n",
    "    C = A * B\n",
    "end"
   ]
  },
  {
   "cell_type": "code",
   "execution_count": 4,
   "id": "54b061bc",
   "metadata": {},
   "outputs": [
    {
     "data": {
      "text/plain": [
       "12-element BenchmarkTools.BenchmarkGroup:\n",
       "  tags: []\n",
       "  5 => Trial(274.393 ns)\n",
       "  12 => Trial(554.941 ns)\n",
       "  8 => Trial(340.685 ns)\n",
       "  1 => Trial(131.611 ns)\n",
       "  6 => Trial(305.936 ns)\n",
       "  11 => Trial(590.218 ns)\n",
       "  9 => Trial(430.601 ns)\n",
       "  3 => Trial(141.548 ns)\n",
       "  7 => Trial(353.128 ns)\n",
       "  4 => Trial(233.559 ns)\n",
       "  ⋮"
      ]
     },
     "execution_count": 4,
     "metadata": {},
     "output_type": "execute_result"
    }
   ],
   "source": [
    "suite = BenchmarkGroup()\n",
    "suite[1] = @benchmarkable test(1)\n",
    "suite[2] = @benchmarkable test(2)\n",
    "suite[3] = @benchmarkable test(3)\n",
    "suite[4] = @benchmarkable test(4)\n",
    "suite[5] = @benchmarkable test(5)\n",
    "suite[6] = @benchmarkable test(6)\n",
    "suite[7] = @benchmarkable test(7)\n",
    "suite[8] = @benchmarkable test(8)\n",
    "suite[9] = @benchmarkable test(9)\n",
    "suite[10] = @benchmarkable test(10)\n",
    "suite[11] = @benchmarkable test(11)\n",
    "suite[12] = @benchmarkable test(12)\n",
    "\n",
    "tune!(suite)\n",
    "results = run(suite, verbose=false)"
   ]
  },
  {
   "cell_type": "code",
   "execution_count": 5,
   "id": "25c8cf8d",
   "metadata": {},
   "outputs": [
    {
     "name": "stdout",
     "output_type": "stream",
     "text": [
      "n = 5: 282.58053691275165\n",
      "n = 12: 571.983870967742\n",
      "n = 8: 349.81278538812785\n",
      "n = 1: 136.71850170261067\n",
      "n = 6: 317.9641434262948\n",
      "n = 11: 609.2122905027933\n",
      "n = 9: 446.0050505050505\n",
      "n = 3: 145.86737089201878\n",
      "n = 7: 364.07109004739334\n",
      "n = 4: 240.22602739726028\n",
      "n = 2: 72.74257932446264\n",
      "n = 10: 508.39690721649487\n"
     ]
    }
   ],
   "source": [
    "# BenchmarkTools.save(\"output.json\", median(results))\n",
    "for (i, result) in enumerate(results)\n",
    "    println(\"n = $(result.first): \", median(result.second).time)\n",
    "end"
   ]
  }
 ],
 "metadata": {
  "kernelspec": {
   "display_name": "Julia 1.8.5",
   "language": "julia",
   "name": "julia-1.8"
  },
  "language_info": {
   "file_extension": ".jl",
   "mimetype": "application/julia",
   "name": "julia",
   "version": "1.8.5"
  }
 },
 "nbformat": 4,
 "nbformat_minor": 5
}
