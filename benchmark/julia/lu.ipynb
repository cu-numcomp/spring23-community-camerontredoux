{
 "cells": [
  {
   "cell_type": "code",
   "execution_count": 1,
   "metadata": {},
   "outputs": [],
   "source": [
    "using BenchmarkTools;\n",
    "using LinearAlgebra, JSON;"
   ]
  },
  {
   "cell_type": "code",
   "execution_count": 2,
   "metadata": {},
   "outputs": [
    {
     "data": {
      "text/plain": [
       "test (generic function with 1 method)"
      ]
     },
     "execution_count": 2,
     "metadata": {},
     "output_type": "execute_result"
    }
   ],
   "source": [
    "function test(n::Int64)\n",
    "    A = rand(n,n)\n",
    "    lu(A)\n",
    "end"
   ]
  },
  {
   "cell_type": "code",
   "execution_count": 3,
   "metadata": {},
   "outputs": [
    {
     "data": {
      "text/plain": [
       "12-element BenchmarkTools.BenchmarkGroup:\n",
       "  tags: []\n",
       "  5 => Trial(298.012 ns)\n",
       "  12 => Trial(965.000 ns)\n",
       "  8 => Trial(510.411 ns)\n",
       "  1 => Trial(114.387 ns)\n",
       "  6 => Trial(364.729 ns)\n",
       "  11 => Trial(858.827 ns)\n",
       "  9 => Trial(618.443 ns)\n",
       "  3 => Trial(207.686 ns)\n",
       "  7 => Trial(432.874 ns)\n",
       "  4 => Trial(248.818 ns)\n",
       "  ⋮"
      ]
     },
     "execution_count": 3,
     "metadata": {},
     "output_type": "execute_result"
    }
   ],
   "source": [
    "suite = BenchmarkGroup()\n",
    "suite[1] = @benchmarkable test(1)\n",
    "suite[2] = @benchmarkable test(2)\n",
    "suite[3] = @benchmarkable test(3)\n",
    "suite[4] = @benchmarkable test(4)\n",
    "suite[5] = @benchmarkable test(5)\n",
    "suite[6] = @benchmarkable test(6)\n",
    "suite[7] = @benchmarkable test(7)\n",
    "suite[8] = @benchmarkable test(8)\n",
    "suite[9] = @benchmarkable test(9)\n",
    "suite[10] = @benchmarkable test(10)\n",
    "suite[11] = @benchmarkable test(11)\n",
    "suite[12] = @benchmarkable test(12)\n",
    "\n",
    "tune!(suite)\n",
    "results = run(suite, verbose=false)"
   ]
  },
  {
   "cell_type": "code",
   "execution_count": 4,
   "metadata": {},
   "outputs": [
    {
     "name": "stdout",
     "output_type": "stream",
     "text": [
      "n = 5: 309.0059523809524\n",
      "n = 12: 1042.0\n",
      "n = 8: 527.4713541666666\n",
      "n = 1: 120.87648970747563\n",
      "n = 6: 375.35748792270533\n",
      "n = 11: 904.2307692307693\n",
      "n = 9: 638.2701149425287\n",
      "n = 3: 214.64036697247707\n",
      "n = 7: 445.35353535353534\n",
      "n = 4: 257.6128205128205\n",
      "n = 2: 145.21773288439954\n",
      "n = 10: 757.9916666666667\n"
     ]
    }
   ],
   "source": [
    "# BenchmarkTools.save(\"output.json\", median(results))\n",
    "for (i, result) in enumerate(results)\n",
    "    println(\"n = $(result.first): \", median(result.second).time)\n",
    "end"
   ]
  }
 ],
 "metadata": {
  "kernelspec": {
   "display_name": "Julia 1.8.5",
   "language": "julia",
   "name": "julia-1.8"
  },
  "language_info": {
   "file_extension": ".jl",
   "mimetype": "application/julia",
   "name": "julia",
   "version": "1.8.5"
  },
  "orig_nbformat": 4
 },
 "nbformat": 4,
 "nbformat_minor": 2
}
