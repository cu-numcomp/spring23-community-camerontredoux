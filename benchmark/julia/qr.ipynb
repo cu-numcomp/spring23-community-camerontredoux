{
 "cells": [
  {
   "cell_type": "code",
   "execution_count": 5,
   "metadata": {},
   "outputs": [],
   "source": [
    "using BenchmarkTools;\n",
    "using LinearAlgebra, JSON;"
   ]
  },
  {
   "cell_type": "code",
   "execution_count": 2,
   "metadata": {},
   "outputs": [
    {
     "data": {
      "text/plain": [
       "test (generic function with 1 method)"
      ]
     },
     "execution_count": 2,
     "metadata": {},
     "output_type": "execute_result"
    }
   ],
   "source": [
    "function test(n::Int64)\n",
    "    A = rand(n,n)\n",
    "    qr(A)\n",
    "end"
   ]
  },
  {
   "cell_type": "code",
   "execution_count": 4,
   "metadata": {},
   "outputs": [
    {
     "data": {
      "text/plain": [
       "12-element BenchmarkTools.BenchmarkGroup:\n",
       "  tags: []\n",
       "  5 => Trial(2.701 μs)\n",
       "  12 => Trial(8.280 μs)\n",
       "  8 => Trial(4.834 μs)\n",
       "  1 => Trial(96.102 ns)\n",
       "  6 => Trial(3.391 μs)\n",
       "  11 => Trial(7.435 μs)\n",
       "  9 => Trial(5.692 μs)\n",
       "  3 => Trial(1.360 μs)\n",
       "  7 => Trial(4.044 μs)\n",
       "  4 => Trial(1.975 μs)\n",
       "  ⋮"
      ]
     },
     "execution_count": 4,
     "metadata": {},
     "output_type": "execute_result"
    }
   ],
   "source": [
    "suite = BenchmarkGroup()\n",
    "suite[1] = @benchmarkable test(1)\n",
    "suite[2] = @benchmarkable test(2)\n",
    "suite[3] = @benchmarkable test(3)\n",
    "suite[4] = @benchmarkable test(4)\n",
    "suite[5] = @benchmarkable test(5)\n",
    "suite[6] = @benchmarkable test(6)\n",
    "suite[7] = @benchmarkable test(7)\n",
    "suite[8] = @benchmarkable test(8)\n",
    "suite[9] = @benchmarkable test(9)\n",
    "suite[10] = @benchmarkable test(10)\n",
    "suite[11] = @benchmarkable test(11)\n",
    "suite[12] = @benchmarkable test(12)\n",
    "\n",
    "tune!(suite)\n",
    "results = run(suite, verbose=false)"
   ]
  },
  {
   "cell_type": "code",
   "execution_count": 16,
   "metadata": {},
   "outputs": [
    {
     "name": "stdout",
     "output_type": "stream",
     "text": [
      "n = 5: 2813.3333333333335\n",
      "n = 12: 8693.333333333334\n",
      "n = 8: 4994.285714285715\n",
      "n = 1: 102.85609243697479\n",
      "n = 6: 3585.0\n",
      "n = 11: 7792.5\n",
      "n = 9: 5864.833333333333\n",
      "n = 3: 1457.0\n",
      "n = 7: 4190.0\n",
      "n = 4: 2135.0\n",
      "n = 2: 734.2587412587412\n",
      "n = 10: 6892.0\n"
     ]
    }
   ],
   "source": [
    "# BenchmarkTools.save(\"output.json\", median(results))\n",
    "for (i, result) in enumerate(results)\n",
    "    println(\"n = $(result.first): \", median(result.second).time)\n",
    "end"
   ]
  }
 ],
 "metadata": {
  "kernelspec": {
   "display_name": "Julia 1.8.5",
   "language": "julia",
   "name": "julia-1.8"
  },
  "language_info": {
   "file_extension": ".jl",
   "mimetype": "application/julia",
   "name": "julia",
   "version": "1.8.5"
  },
  "orig_nbformat": 4
 },
 "nbformat": 4,
 "nbformat_minor": 2
}
